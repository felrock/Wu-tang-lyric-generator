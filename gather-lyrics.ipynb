{
 "cells": [
  {
   "cell_type": "markdown",
   "metadata": {},
   "source": [
    "### Creating the data set\n",
    "The data set will be all the publicly available song lyrics at songlyrics.com\n",
    "\n",
    "Starting with Wu-Tang lyrics @ http://www.songlyrics.com/wu-tang-clan-lyrics/ but this could be edited to work for any artist that have lyrics on songlyrics.com"
   ]
  },
  {
   "cell_type": "code",
   "execution_count": 1,
   "metadata": {},
   "outputs": [],
   "source": [
    "import bs4\n",
    "import requests\n",
    "import re\n",
    "\n",
    "url = \"http://www.songlyrics.com/wu-tang-clan-lyrics/\"\n",
    "song_table_class = \"tracklist\"\n",
    "song_lyric_id = \"songLyricsDiv\"\n",
    "attribute_to_link = \"href\"\n",
    "\n",
    "# dividers for the output file\n",
    "d1 = '#'*10\n",
    "song_start_div = '\\n{} BEGIN SONG {}\\n'.format(d1, d1)\n",
    "song_end_div = '\\n{} END SONG {}\\n'.format(d1, d1)\n"
   ]
  },
  {
   "cell_type": "markdown",
   "metadata": {},
   "source": [
    "Use requests to get the html content and create a beatofulsoup obeject"
   ]
  },
  {
   "cell_type": "code",
   "execution_count": 2,
   "metadata": {},
   "outputs": [],
   "source": [
    "req = requests.get(url)\n",
    "bs_html = bs4.BeautifulSoup(req.text)"
   ]
  },
  {
   "cell_type": "markdown",
   "metadata": {},
   "source": [
    "Find the table that contain the links to the song lyrics and extract the song links and the song names"
   ]
  },
  {
   "cell_type": "code",
   "execution_count": 3,
   "metadata": {},
   "outputs": [],
   "source": [
    "song_table_html = bs_html.find(name='table', attrs={'class':song_table_class})\n",
    "links_html = song_table_html.find_all(name='a')\n",
    "links = [ (x['href'], x.text) for x in links_html ]"
   ]
  },
  {
   "cell_type": "markdown",
   "metadata": {},
   "source": [
    "Go through each link and retrieve the div containing the song lyric, this might take some time depending on your internet speed"
   ]
  },
  {
   "cell_type": "code",
   "execution_count": 4,
   "metadata": {},
   "outputs": [],
   "source": [
    "lyrics = []\n",
    "for link, name in links:\n",
    "    \n",
    "    try:\n",
    "        req = requests.get(link)\n",
    "        bs_html = bs4.BeautifulSoup(req.text)\n",
    "        song_lyric_html = bs_html.find(name='p', attrs={'id':song_lyric_id})\n",
    "        lyrics.append((name, song_lyric_html.text))\n",
    "    except:\n",
    "        # broken link\n",
    "        pass"
   ]
  },
  {
   "cell_type": "markdown",
   "metadata": {},
   "source": [
    "Now we have the lyrics in a raw format we want to remove redundant information, all we want is the lyrics."
   ]
  },
  {
   "cell_type": "code",
   "execution_count": 5,
   "metadata": {},
   "outputs": [
    {
     "data": {
      "text/plain": [
       "401"
      ]
     },
     "execution_count": 5,
     "metadata": {},
     "output_type": "execute_result"
    }
   ],
   "source": [
    "len(lyrics)"
   ]
  },
  {
   "cell_type": "markdown",
   "metadata": {},
   "source": [
    "After inspecting the syntax of the lyrics we can only clean some parts. For example parantheses is used for adlibs and also for repititons, so we can't just expand on it or remove it. Brackets are used for which vers it is and it's also used for who is singing or rappin. What we can remove is everything that is enclosed with brackets, becuase we want to generate Wu-Tang lyrics not specific to each member."
   ]
  },
  {
   "cell_type": "code",
   "execution_count": 6,
   "metadata": {},
   "outputs": [],
   "source": [
    "for i in range(len(lyrics)):\n",
    "    \n",
    "    # greedy match with brackets with any content, in both title and lyric\n",
    "    song_lyric = re.sub(r'\\[.*\\]','', lyrics[i][1])\n",
    "    song_title = re.sub(r'\\[.*\\]', '', lyrics[i][0])\n",
    "    song_title = re.sub(r'\\(.*\\)', '', song_title)\n",
    "    \n",
    "    lyrics[i] = (song_title, song_lyric)"
   ]
  },
  {
   "cell_type": "markdown",
   "metadata": {},
   "source": [
    "Now we put it all together and add dividers between each song. We created dividers to be able to pass the entire file to the model for training."
   ]
  },
  {
   "cell_type": "code",
   "execution_count": 7,
   "metadata": {},
   "outputs": [],
   "source": [
    "file_out = open('wu_tang_songs.txt', 'w', encoding='utf8')\n",
    "for name, lyric in lyrics:\n",
    "    \n",
    "    # write a chunk\n",
    "    file_out.write(song_start_div)\n",
    "    file_out.write(lyric)\n",
    "    file_out.write(song_end_div)\n",
    "    \n",
    "file_out.close()"
   ]
  },
  {
   "cell_type": "code",
   "execution_count": null,
   "metadata": {},
   "outputs": [],
   "source": []
  }
 ],
 "metadata": {
  "kernelspec": {
   "display_name": "Python 3",
   "language": "python",
   "name": "python3"
  },
  "language_info": {
   "codemirror_mode": {
    "name": "ipython",
    "version": 3
   },
   "file_extension": ".py",
   "mimetype": "text/x-python",
   "name": "python",
   "nbconvert_exporter": "python",
   "pygments_lexer": "ipython3",
   "version": "3.7.3"
  }
 },
 "nbformat": 4,
 "nbformat_minor": 2
}
